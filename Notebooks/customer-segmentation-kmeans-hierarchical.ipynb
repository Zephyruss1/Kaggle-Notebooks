{
 "cells": [
  {
   "cell_type": "code",
   "execution_count": 1,
   "id": "0754b1f4",
   "metadata": {
    "_cell_guid": "b1076dfc-b9ad-4769-8c92-a6c4dae69d19",
    "_uuid": "8f2839f25d086af736a60e9eeb907d3b93b6e0e5",
    "execution": {
     "iopub.execute_input": "2023-10-05T18:02:06.341049Z",
     "iopub.status.busy": "2023-10-05T18:02:06.340464Z",
     "iopub.status.idle": "2023-10-05T18:02:09.439321Z",
     "shell.execute_reply": "2023-10-05T18:02:09.437979Z"
    },
    "papermill": {
     "duration": 3.10891,
     "end_time": "2023-10-05T18:02:09.441840",
     "exception": false,
     "start_time": "2023-10-05T18:02:06.332930",
     "status": "completed"
    },
    "tags": []
   },
   "outputs": [
    {
     "name": "stdout",
     "output_type": "stream",
     "text": [
      "/kaggle/input/customer-segmentation-dataset/Online Retail.xlsx\n"
     ]
    }
   ],
   "source": [
    "# This Python 3 environment comes with many helpful analytics libraries installed\n",
    "# It is defined by the kaggle/python Docker image: https://github.com/kaggle/docker-python\n",
    "# For example, here's several helpful packages to load\n",
    "\n",
    "import numpy as np # linear algebra\n",
    "import pandas as pd # data processing, CSV file I/O (e.g. pd.read_csv)\n",
    "import matplotlib.pyplot as plt\n",
    "import seaborn as sns\n",
    "from scipy.cluster.hierarchy import dendrogram, linkage\n",
    "from sklearn.preprocessing import MinMaxScaler\n",
    "from sklearn.cluster import KMeans, AgglomerativeClustering\n",
    "from sklearn.preprocessing import MinMaxScaler\n",
    "from sklearn.metrics import confusion_matrix\n",
    "import warnings \n",
    "warnings.filterwarnings('ignore')\n",
    "\n",
    "# Input data files are available in the read-only \"../input/\" directory\n",
    "# For example, running this (by clicking run or pressing Shift+Enter) will list all files under the input directory\n",
    "\n",
    "import os\n",
    "for dirname, _, filenames in os.walk('/kaggle/input'):\n",
    "    for filename in filenames:\n",
    "        print(os.path.join(dirname, filename))\n",
    "\n",
    "# You can write up to 20GB to the current directory (/kaggle/working/) that gets preserved as output when you create a version using \"Save & Run All\" \n",
    "# You can also write temporary files to /kaggle/temp/, but they won't be saved outside of the current session"
   ]
  },
  {
   "cell_type": "code",
   "execution_count": 2,
   "id": "72e6275a",
   "metadata": {
    "execution": {
     "iopub.execute_input": "2023-10-05T18:02:09.454714Z",
     "iopub.status.busy": "2023-10-05T18:02:09.453363Z",
     "iopub.status.idle": "2023-10-05T18:03:16.551188Z",
     "shell.execute_reply": "2023-10-05T18:03:16.549684Z"
    },
    "papermill": {
     "duration": 67.107492,
     "end_time": "2023-10-05T18:03:16.554384",
     "exception": false,
     "start_time": "2023-10-05T18:02:09.446892",
     "status": "completed"
    },
    "tags": []
   },
   "outputs": [],
   "source": [
    "df = pd.read_excel('/kaggle/input/customer-segmentation-dataset/Online Retail.xlsx')"
   ]
  },
  {
   "cell_type": "code",
   "execution_count": 3,
   "id": "7e425cdd",
   "metadata": {
    "execution": {
     "iopub.execute_input": "2023-10-05T18:03:16.566916Z",
     "iopub.status.busy": "2023-10-05T18:03:16.566241Z",
     "iopub.status.idle": "2023-10-05T18:03:16.766332Z",
     "shell.execute_reply": "2023-10-05T18:03:16.765073Z"
    },
    "papermill": {
     "duration": 0.209536,
     "end_time": "2023-10-05T18:03:16.769266",
     "exception": false,
     "start_time": "2023-10-05T18:03:16.559730",
     "status": "completed"
    },
    "tags": []
   },
   "outputs": [
    {
     "data": {
      "text/html": [
       "<div>\n",
       "<style scoped>\n",
       "    .dataframe tbody tr th:only-of-type {\n",
       "        vertical-align: middle;\n",
       "    }\n",
       "\n",
       "    .dataframe tbody tr th {\n",
       "        vertical-align: top;\n",
       "    }\n",
       "\n",
       "    .dataframe thead th {\n",
       "        text-align: right;\n",
       "    }\n",
       "</style>\n",
       "<table border=\"1\" class=\"dataframe\">\n",
       "  <thead>\n",
       "    <tr style=\"text-align: right;\">\n",
       "      <th></th>\n",
       "      <th>InvoiceNo</th>\n",
       "      <th>StockCode</th>\n",
       "      <th>Description</th>\n",
       "      <th>Quantity</th>\n",
       "      <th>InvoiceDate</th>\n",
       "      <th>UnitPrice</th>\n",
       "      <th>CustomerID</th>\n",
       "      <th>Country</th>\n",
       "    </tr>\n",
       "  </thead>\n",
       "  <tbody>\n",
       "    <tr>\n",
       "      <th>0</th>\n",
       "      <td>536365</td>\n",
       "      <td>85123A</td>\n",
       "      <td>WHITE HANGING HEART T-LIGHT HOLDER</td>\n",
       "      <td>6</td>\n",
       "      <td>2010-12-01 08:26:00</td>\n",
       "      <td>2.55</td>\n",
       "      <td>17850.0</td>\n",
       "      <td>United Kingdom</td>\n",
       "    </tr>\n",
       "    <tr>\n",
       "      <th>1</th>\n",
       "      <td>536365</td>\n",
       "      <td>71053</td>\n",
       "      <td>WHITE METAL LANTERN</td>\n",
       "      <td>6</td>\n",
       "      <td>2010-12-01 08:26:00</td>\n",
       "      <td>3.39</td>\n",
       "      <td>17850.0</td>\n",
       "      <td>United Kingdom</td>\n",
       "    </tr>\n",
       "    <tr>\n",
       "      <th>2</th>\n",
       "      <td>536365</td>\n",
       "      <td>84406B</td>\n",
       "      <td>CREAM CUPID HEARTS COAT HANGER</td>\n",
       "      <td>8</td>\n",
       "      <td>2010-12-01 08:26:00</td>\n",
       "      <td>2.75</td>\n",
       "      <td>17850.0</td>\n",
       "      <td>United Kingdom</td>\n",
       "    </tr>\n",
       "    <tr>\n",
       "      <th>3</th>\n",
       "      <td>536365</td>\n",
       "      <td>84029G</td>\n",
       "      <td>KNITTED UNION FLAG HOT WATER BOTTLE</td>\n",
       "      <td>6</td>\n",
       "      <td>2010-12-01 08:26:00</td>\n",
       "      <td>3.39</td>\n",
       "      <td>17850.0</td>\n",
       "      <td>United Kingdom</td>\n",
       "    </tr>\n",
       "    <tr>\n",
       "      <th>4</th>\n",
       "      <td>536365</td>\n",
       "      <td>84029E</td>\n",
       "      <td>RED WOOLLY HOTTIE WHITE HEART.</td>\n",
       "      <td>6</td>\n",
       "      <td>2010-12-01 08:26:00</td>\n",
       "      <td>3.39</td>\n",
       "      <td>17850.0</td>\n",
       "      <td>United Kingdom</td>\n",
       "    </tr>\n",
       "  </tbody>\n",
       "</table>\n",
       "</div>"
      ],
      "text/plain": [
       "  InvoiceNo StockCode                          Description  Quantity  \\\n",
       "0    536365    85123A   WHITE HANGING HEART T-LIGHT HOLDER         6   \n",
       "1    536365     71053                  WHITE METAL LANTERN         6   \n",
       "2    536365    84406B       CREAM CUPID HEARTS COAT HANGER         8   \n",
       "3    536365    84029G  KNITTED UNION FLAG HOT WATER BOTTLE         6   \n",
       "4    536365    84029E       RED WOOLLY HOTTIE WHITE HEART.         6   \n",
       "\n",
       "          InvoiceDate  UnitPrice  CustomerID         Country  \n",
       "0 2010-12-01 08:26:00       2.55     17850.0  United Kingdom  \n",
       "1 2010-12-01 08:26:00       3.39     17850.0  United Kingdom  \n",
       "2 2010-12-01 08:26:00       2.75     17850.0  United Kingdom  \n",
       "3 2010-12-01 08:26:00       3.39     17850.0  United Kingdom  \n",
       "4 2010-12-01 08:26:00       3.39     17850.0  United Kingdom  "
      ]
     },
     "execution_count": 3,
     "metadata": {},
     "output_type": "execute_result"
    }
   ],
   "source": [
    "df.head()"
   ]
  },
  {
   "cell_type": "code",
   "execution_count": 4,
   "id": "8e6ed5d8",
   "metadata": {
    "execution": {
     "iopub.execute_input": "2023-10-05T18:03:16.782425Z",
     "iopub.status.busy": "2023-10-05T18:03:16.781992Z",
     "iopub.status.idle": "2023-10-05T18:03:16.920567Z",
     "shell.execute_reply": "2023-10-05T18:03:16.918822Z"
    },
    "papermill": {
     "duration": 0.148553,
     "end_time": "2023-10-05T18:03:16.923313",
     "exception": false,
     "start_time": "2023-10-05T18:03:16.774760",
     "status": "completed"
    },
    "tags": []
   },
   "outputs": [
    {
     "name": "stdout",
     "output_type": "stream",
     "text": [
      "<class 'pandas.core.frame.DataFrame'>\n",
      "RangeIndex: 541909 entries, 0 to 541908\n",
      "Data columns (total 8 columns):\n",
      " #   Column       Non-Null Count   Dtype         \n",
      "---  ------       --------------   -----         \n",
      " 0   InvoiceNo    541909 non-null  object        \n",
      " 1   StockCode    541909 non-null  object        \n",
      " 2   Description  540455 non-null  object        \n",
      " 3   Quantity     541909 non-null  int64         \n",
      " 4   InvoiceDate  541909 non-null  datetime64[ns]\n",
      " 5   UnitPrice    541909 non-null  float64       \n",
      " 6   CustomerID   406829 non-null  float64       \n",
      " 7   Country      541909 non-null  object        \n",
      "dtypes: datetime64[ns](1), float64(2), int64(1), object(4)\n",
      "memory usage: 33.1+ MB\n"
     ]
    }
   ],
   "source": [
    "df.info()"
   ]
  },
  {
   "cell_type": "code",
   "execution_count": 5,
   "id": "8e0ec0fa",
   "metadata": {
    "execution": {
     "iopub.execute_input": "2023-10-05T18:03:16.935608Z",
     "iopub.status.busy": "2023-10-05T18:03:16.935257Z",
     "iopub.status.idle": "2023-10-05T18:03:17.061265Z",
     "shell.execute_reply": "2023-10-05T18:03:17.059826Z"
    },
    "papermill": {
     "duration": 0.135614,
     "end_time": "2023-10-05T18:03:17.064216",
     "exception": false,
     "start_time": "2023-10-05T18:03:16.928602",
     "status": "completed"
    },
    "tags": []
   },
   "outputs": [
    {
     "data": {
      "text/plain": [
       "InvoiceNo       0.0%\n",
       "StockCode       0.0%\n",
       "Description     0.3%\n",
       "Quantity        0.0%\n",
       "InvoiceDate     0.0%\n",
       "UnitPrice       0.0%\n",
       "CustomerID     24.9%\n",
       "Country         0.0%\n",
       "dtype: object"
      ]
     },
     "execution_count": 5,
     "metadata": {},
     "output_type": "execute_result"
    }
   ],
   "source": [
    "def print_percent_null(data):\n",
    "    null_data = data.isna().sum() / len(data)\n",
    "    return null_data.apply(lambda x: f\"{x:.1%}\")\n",
    "\n",
    "print_percent_null(df)"
   ]
  },
  {
   "cell_type": "code",
   "execution_count": 6,
   "id": "ebb7434f",
   "metadata": {
    "execution": {
     "iopub.execute_input": "2023-10-05T18:03:17.078151Z",
     "iopub.status.busy": "2023-10-05T18:03:17.077644Z",
     "iopub.status.idle": "2023-10-05T18:03:17.239103Z",
     "shell.execute_reply": "2023-10-05T18:03:17.237526Z"
    },
    "papermill": {
     "duration": 0.171875,
     "end_time": "2023-10-05T18:03:17.242183",
     "exception": false,
     "start_time": "2023-10-05T18:03:17.070308",
     "status": "completed"
    },
    "tags": []
   },
   "outputs": [],
   "source": [
    "df.dropna(inplace=True)"
   ]
  },
  {
   "cell_type": "code",
   "execution_count": 7,
   "id": "7aac884d",
   "metadata": {
    "execution": {
     "iopub.execute_input": "2023-10-05T18:03:17.256293Z",
     "iopub.status.busy": "2023-10-05T18:03:17.255522Z",
     "iopub.status.idle": "2023-10-05T18:03:17.349833Z",
     "shell.execute_reply": "2023-10-05T18:03:17.348577Z"
    },
    "papermill": {
     "duration": 0.105178,
     "end_time": "2023-10-05T18:03:17.353079",
     "exception": false,
     "start_time": "2023-10-05T18:03:17.247901",
     "status": "completed"
    },
    "tags": []
   },
   "outputs": [
    {
     "data": {
      "text/plain": [
       "InvoiceNo      0.0%\n",
       "StockCode      0.0%\n",
       "Description    0.0%\n",
       "Quantity       0.0%\n",
       "InvoiceDate    0.0%\n",
       "UnitPrice      0.0%\n",
       "CustomerID     0.0%\n",
       "Country        0.0%\n",
       "dtype: object"
      ]
     },
     "execution_count": 7,
     "metadata": {},
     "output_type": "execute_result"
    }
   ],
   "source": [
    "print_percent_null(df)"
   ]
  },
  {
   "cell_type": "code",
   "execution_count": 8,
   "id": "a2b3c170",
   "metadata": {
    "execution": {
     "iopub.execute_input": "2023-10-05T18:03:17.367204Z",
     "iopub.status.busy": "2023-10-05T18:03:17.366726Z",
     "iopub.status.idle": "2023-10-05T18:03:17.464293Z",
     "shell.execute_reply": "2023-10-05T18:03:17.462624Z"
    },
    "papermill": {
     "duration": 0.108183,
     "end_time": "2023-10-05T18:03:17.467369",
     "exception": false,
     "start_time": "2023-10-05T18:03:17.359186",
     "status": "completed"
    },
    "tags": []
   },
   "outputs": [
    {
     "name": "stdout",
     "output_type": "stream",
     "text": [
      "<class 'pandas.core.frame.DataFrame'>\n",
      "Index: 406829 entries, 0 to 541908\n",
      "Data columns (total 8 columns):\n",
      " #   Column       Non-Null Count   Dtype         \n",
      "---  ------       --------------   -----         \n",
      " 0   InvoiceNo    406829 non-null  object        \n",
      " 1   StockCode    406829 non-null  object        \n",
      " 2   Description  406829 non-null  object        \n",
      " 3   Quantity     406829 non-null  int64         \n",
      " 4   InvoiceDate  406829 non-null  datetime64[ns]\n",
      " 5   UnitPrice    406829 non-null  float64       \n",
      " 6   CustomerID   406829 non-null  float64       \n",
      " 7   Country      406829 non-null  object        \n",
      "dtypes: datetime64[ns](1), float64(2), int64(1), object(4)\n",
      "memory usage: 27.9+ MB\n"
     ]
    }
   ],
   "source": [
    "df.info()"
   ]
  },
  {
   "cell_type": "code",
   "execution_count": 9,
   "id": "119aaf39",
   "metadata": {
    "execution": {
     "iopub.execute_input": "2023-10-05T18:03:17.483835Z",
     "iopub.status.busy": "2023-10-05T18:03:17.482943Z",
     "iopub.status.idle": "2023-10-05T18:03:17.502474Z",
     "shell.execute_reply": "2023-10-05T18:03:17.500903Z"
    },
    "papermill": {
     "duration": 0.029397,
     "end_time": "2023-10-05T18:03:17.504941",
     "exception": false,
     "start_time": "2023-10-05T18:03:17.475544",
     "status": "completed"
    },
    "tags": []
   },
   "outputs": [
    {
     "data": {
      "text/html": [
       "<div>\n",
       "<style scoped>\n",
       "    .dataframe tbody tr th:only-of-type {\n",
       "        vertical-align: middle;\n",
       "    }\n",
       "\n",
       "    .dataframe tbody tr th {\n",
       "        vertical-align: top;\n",
       "    }\n",
       "\n",
       "    .dataframe thead th {\n",
       "        text-align: right;\n",
       "    }\n",
       "</style>\n",
       "<table border=\"1\" class=\"dataframe\">\n",
       "  <thead>\n",
       "    <tr style=\"text-align: right;\">\n",
       "      <th></th>\n",
       "      <th>InvoiceNo</th>\n",
       "      <th>StockCode</th>\n",
       "      <th>Description</th>\n",
       "      <th>Quantity</th>\n",
       "      <th>InvoiceDate</th>\n",
       "      <th>UnitPrice</th>\n",
       "      <th>CustomerID</th>\n",
       "      <th>Country</th>\n",
       "    </tr>\n",
       "  </thead>\n",
       "  <tbody>\n",
       "    <tr>\n",
       "      <th>0</th>\n",
       "      <td>536365</td>\n",
       "      <td>85123A</td>\n",
       "      <td>WHITE HANGING HEART T-LIGHT HOLDER</td>\n",
       "      <td>6</td>\n",
       "      <td>2010-12-01 08:26:00</td>\n",
       "      <td>2.55</td>\n",
       "      <td>17850.0</td>\n",
       "      <td>United Kingdom</td>\n",
       "    </tr>\n",
       "    <tr>\n",
       "      <th>1</th>\n",
       "      <td>536365</td>\n",
       "      <td>71053</td>\n",
       "      <td>WHITE METAL LANTERN</td>\n",
       "      <td>6</td>\n",
       "      <td>2010-12-01 08:26:00</td>\n",
       "      <td>3.39</td>\n",
       "      <td>17850.0</td>\n",
       "      <td>United Kingdom</td>\n",
       "    </tr>\n",
       "    <tr>\n",
       "      <th>2</th>\n",
       "      <td>536365</td>\n",
       "      <td>84406B</td>\n",
       "      <td>CREAM CUPID HEARTS COAT HANGER</td>\n",
       "      <td>8</td>\n",
       "      <td>2010-12-01 08:26:00</td>\n",
       "      <td>2.75</td>\n",
       "      <td>17850.0</td>\n",
       "      <td>United Kingdom</td>\n",
       "    </tr>\n",
       "    <tr>\n",
       "      <th>3</th>\n",
       "      <td>536365</td>\n",
       "      <td>84029G</td>\n",
       "      <td>KNITTED UNION FLAG HOT WATER BOTTLE</td>\n",
       "      <td>6</td>\n",
       "      <td>2010-12-01 08:26:00</td>\n",
       "      <td>3.39</td>\n",
       "      <td>17850.0</td>\n",
       "      <td>United Kingdom</td>\n",
       "    </tr>\n",
       "    <tr>\n",
       "      <th>4</th>\n",
       "      <td>536365</td>\n",
       "      <td>84029E</td>\n",
       "      <td>RED WOOLLY HOTTIE WHITE HEART.</td>\n",
       "      <td>6</td>\n",
       "      <td>2010-12-01 08:26:00</td>\n",
       "      <td>3.39</td>\n",
       "      <td>17850.0</td>\n",
       "      <td>United Kingdom</td>\n",
       "    </tr>\n",
       "  </tbody>\n",
       "</table>\n",
       "</div>"
      ],
      "text/plain": [
       "  InvoiceNo StockCode                          Description  Quantity  \\\n",
       "0    536365    85123A   WHITE HANGING HEART T-LIGHT HOLDER         6   \n",
       "1    536365     71053                  WHITE METAL LANTERN         6   \n",
       "2    536365    84406B       CREAM CUPID HEARTS COAT HANGER         8   \n",
       "3    536365    84029G  KNITTED UNION FLAG HOT WATER BOTTLE         6   \n",
       "4    536365    84029E       RED WOOLLY HOTTIE WHITE HEART.         6   \n",
       "\n",
       "          InvoiceDate  UnitPrice  CustomerID         Country  \n",
       "0 2010-12-01 08:26:00       2.55     17850.0  United Kingdom  \n",
       "1 2010-12-01 08:26:00       3.39     17850.0  United Kingdom  \n",
       "2 2010-12-01 08:26:00       2.75     17850.0  United Kingdom  \n",
       "3 2010-12-01 08:26:00       3.39     17850.0  United Kingdom  \n",
       "4 2010-12-01 08:26:00       3.39     17850.0  United Kingdom  "
      ]
     },
     "execution_count": 9,
     "metadata": {},
     "output_type": "execute_result"
    }
   ],
   "source": [
    "df.head()"
   ]
  },
  {
   "cell_type": "code",
   "execution_count": 10,
   "id": "9b885600",
   "metadata": {
    "execution": {
     "iopub.execute_input": "2023-10-05T18:03:17.519052Z",
     "iopub.status.busy": "2023-10-05T18:03:17.518353Z",
     "iopub.status.idle": "2023-10-05T18:03:21.501686Z",
     "shell.execute_reply": "2023-10-05T18:03:21.500318Z"
    },
    "papermill": {
     "duration": 3.993429,
     "end_time": "2023-10-05T18:03:21.504435",
     "exception": false,
     "start_time": "2023-10-05T18:03:17.511006",
     "status": "completed"
    },
    "tags": []
   },
   "outputs": [
    {
     "name": "stdout",
     "output_type": "stream",
     "text": [
      "<class 'pandas.core.frame.DataFrame'>\n",
      "Index: 4372 entries, 12346.0 to 18287.0\n",
      "Data columns (total 3 columns):\n",
      " #   Column       Non-Null Count  Dtype  \n",
      "---  ------       --------------  -----  \n",
      " 0   InvoiceDate  4372 non-null   int64  \n",
      " 1   InvoiceNo    4372 non-null   int64  \n",
      " 2   TotalPrice   4372 non-null   float64\n",
      "dtypes: float64(1), int64(2)\n",
      "memory usage: 136.6 KB\n"
     ]
    }
   ],
   "source": [
    "df['TotalPrice'] = df['Quantity'] * df['UnitPrice']\n",
    "\n",
    "\n",
    "new_df = df.groupby('CustomerID').agg({'InvoiceDate': lambda x: (df['InvoiceDate'].max() - x.max()).days,\n",
    "                                            'InvoiceNo': 'count',\n",
    "                                            'TotalPrice': 'sum'})\n",
    "\n",
    "\n",
    "new_df.info()"
   ]
  },
  {
   "cell_type": "code",
   "execution_count": 11,
   "id": "5c3f9573",
   "metadata": {
    "execution": {
     "iopub.execute_input": "2023-10-05T18:03:21.519049Z",
     "iopub.status.busy": "2023-10-05T18:03:21.518543Z",
     "iopub.status.idle": "2023-10-05T18:03:21.531917Z",
     "shell.execute_reply": "2023-10-05T18:03:21.530488Z"
    },
    "papermill": {
     "duration": 0.02408,
     "end_time": "2023-10-05T18:03:21.534396",
     "exception": false,
     "start_time": "2023-10-05T18:03:21.510316",
     "status": "completed"
    },
    "tags": []
   },
   "outputs": [
    {
     "data": {
      "text/html": [
       "<div>\n",
       "<style scoped>\n",
       "    .dataframe tbody tr th:only-of-type {\n",
       "        vertical-align: middle;\n",
       "    }\n",
       "\n",
       "    .dataframe tbody tr th {\n",
       "        vertical-align: top;\n",
       "    }\n",
       "\n",
       "    .dataframe thead th {\n",
       "        text-align: right;\n",
       "    }\n",
       "</style>\n",
       "<table border=\"1\" class=\"dataframe\">\n",
       "  <thead>\n",
       "    <tr style=\"text-align: right;\">\n",
       "      <th></th>\n",
       "      <th>InvoiceDate</th>\n",
       "      <th>InvoiceNo</th>\n",
       "      <th>TotalPrice</th>\n",
       "    </tr>\n",
       "    <tr>\n",
       "      <th>CustomerID</th>\n",
       "      <th></th>\n",
       "      <th></th>\n",
       "      <th></th>\n",
       "    </tr>\n",
       "  </thead>\n",
       "  <tbody>\n",
       "    <tr>\n",
       "      <th>12346.0</th>\n",
       "      <td>325</td>\n",
       "      <td>2</td>\n",
       "      <td>0.00</td>\n",
       "    </tr>\n",
       "    <tr>\n",
       "      <th>12347.0</th>\n",
       "      <td>1</td>\n",
       "      <td>182</td>\n",
       "      <td>4310.00</td>\n",
       "    </tr>\n",
       "    <tr>\n",
       "      <th>12348.0</th>\n",
       "      <td>74</td>\n",
       "      <td>31</td>\n",
       "      <td>1797.24</td>\n",
       "    </tr>\n",
       "    <tr>\n",
       "      <th>12349.0</th>\n",
       "      <td>18</td>\n",
       "      <td>73</td>\n",
       "      <td>1757.55</td>\n",
       "    </tr>\n",
       "    <tr>\n",
       "      <th>12350.0</th>\n",
       "      <td>309</td>\n",
       "      <td>17</td>\n",
       "      <td>334.40</td>\n",
       "    </tr>\n",
       "  </tbody>\n",
       "</table>\n",
       "</div>"
      ],
      "text/plain": [
       "            InvoiceDate  InvoiceNo  TotalPrice\n",
       "CustomerID                                    \n",
       "12346.0             325          2        0.00\n",
       "12347.0               1        182     4310.00\n",
       "12348.0              74         31     1797.24\n",
       "12349.0              18         73     1757.55\n",
       "12350.0             309         17      334.40"
      ]
     },
     "execution_count": 11,
     "metadata": {},
     "output_type": "execute_result"
    }
   ],
   "source": [
    "new_df.head()"
   ]
  },
  {
   "cell_type": "code",
   "execution_count": 12,
   "id": "ea71fcd6",
   "metadata": {
    "execution": {
     "iopub.execute_input": "2023-10-05T18:03:21.548600Z",
     "iopub.status.busy": "2023-10-05T18:03:21.548206Z",
     "iopub.status.idle": "2023-10-05T18:03:21.558285Z",
     "shell.execute_reply": "2023-10-05T18:03:21.557156Z"
    },
    "papermill": {
     "duration": 0.019983,
     "end_time": "2023-10-05T18:03:21.560784",
     "exception": false,
     "start_time": "2023-10-05T18:03:21.540801",
     "status": "completed"
    },
    "tags": []
   },
   "outputs": [],
   "source": [
    "scaler = MinMaxScaler()\n",
    "normalize_df = scaler.fit_transform(new_df)"
   ]
  },
  {
   "cell_type": "code",
   "execution_count": 13,
   "id": "efcfb549",
   "metadata": {
    "execution": {
     "iopub.execute_input": "2023-10-05T18:03:21.576133Z",
     "iopub.status.busy": "2023-10-05T18:03:21.575720Z",
     "iopub.status.idle": "2023-10-05T18:03:38.554013Z",
     "shell.execute_reply": "2023-10-05T18:03:38.553071Z"
    },
    "papermill": {
     "duration": 16.98961,
     "end_time": "2023-10-05T18:03:38.557361",
     "exception": false,
     "start_time": "2023-10-05T18:03:21.567751",
     "status": "completed"
    },
    "tags": []
   },
   "outputs": [
    {
     "data": {
      "image/png": "[encoded data removed]",
      "text/plain": [
       "<Figure size 640x480 with 1 Axes>"
      ]
     },
     "metadata": {},
     "output_type": "display_data"
    }
   ],
   "source": [
    "wcss = []\n",
    "\n",
    "for each in range(1, 15):\n",
    "    kmeans = KMeans(n_clusters=each)\n",
    "    kmeans.fit(normalize_df)\n",
    "    wcss.append(kmeans.inertia_)\n",
    "\n",
    "plt.plot(range(1, 15), wcss)\n",
    "plt.title('Elbow plot')\n",
    "plt.xlabel(\"Number of k value (each)\")\n",
    "plt.ylabel(\"WCSS\")\n",
    "plt.show()"
   ]
  },
  {
   "cell_type": "code",
   "execution_count": 14,
   "id": "62405476",
   "metadata": {
    "execution": {
     "iopub.execute_input": "2023-10-05T18:03:38.575119Z",
     "iopub.status.busy": "2023-10-05T18:03:38.573966Z",
     "iopub.status.idle": "2023-10-05T18:03:39.710112Z",
     "shell.execute_reply": "2023-10-05T18:03:39.709041Z"
    },
    "papermill": {
     "duration": 1.148301,
     "end_time": "2023-10-05T18:03:39.713630",
     "exception": false,
     "start_time": "2023-10-05T18:03:38.565329",
     "status": "completed"
    },
    "tags": []
   },
   "outputs": [],
   "source": [
    "kmeans1 = KMeans(n_clusters=3)\n",
    "cluster_k = kmeans1.fit_predict(normalize_df)"
   ]
  },
  {
   "cell_type": "code",
   "execution_count": 15,
   "id": "af9c1098",
   "metadata": {
    "execution": {
     "iopub.execute_input": "2023-10-05T18:03:39.730154Z",
     "iopub.status.busy": "2023-10-05T18:03:39.729736Z",
     "iopub.status.idle": "2023-10-05T18:03:39.743786Z",
     "shell.execute_reply": "2023-10-05T18:03:39.742374Z"
    },
    "papermill": {
     "duration": 0.02407,
     "end_time": "2023-10-05T18:03:39.745846",
     "exception": false,
     "start_time": "2023-10-05T18:03:39.721776",
     "status": "completed"
    },
    "tags": []
   },
   "outputs": [
    {
     "data": {
      "text/html": [
       "<div>\n",
       "<style scoped>\n",
       "    .dataframe tbody tr th:only-of-type {\n",
       "        vertical-align: middle;\n",
       "    }\n",
       "\n",
       "    .dataframe tbody tr th {\n",
       "        vertical-align: top;\n",
       "    }\n",
       "\n",
       "    .dataframe thead th {\n",
       "        text-align: right;\n",
       "    }\n",
       "</style>\n",
       "<table border=\"1\" class=\"dataframe\">\n",
       "  <thead>\n",
       "    <tr style=\"text-align: right;\">\n",
       "      <th></th>\n",
       "      <th>InvoiceDate</th>\n",
       "      <th>InvoiceNo</th>\n",
       "      <th>TotalPrice</th>\n",
       "      <th>cluster</th>\n",
       "    </tr>\n",
       "    <tr>\n",
       "      <th>CustomerID</th>\n",
       "      <th></th>\n",
       "      <th></th>\n",
       "      <th></th>\n",
       "      <th></th>\n",
       "    </tr>\n",
       "  </thead>\n",
       "  <tbody>\n",
       "    <tr>\n",
       "      <th>12346.0</th>\n",
       "      <td>0.871314</td>\n",
       "      <td>0.000125</td>\n",
       "      <td>0.015109</td>\n",
       "      <td>0</td>\n",
       "    </tr>\n",
       "    <tr>\n",
       "      <th>12347.0</th>\n",
       "      <td>0.002681</td>\n",
       "      <td>0.022676</td>\n",
       "      <td>0.030297</td>\n",
       "      <td>1</td>\n",
       "    </tr>\n",
       "    <tr>\n",
       "      <th>12348.0</th>\n",
       "      <td>0.198391</td>\n",
       "      <td>0.003758</td>\n",
       "      <td>0.021442</td>\n",
       "      <td>1</td>\n",
       "    </tr>\n",
       "    <tr>\n",
       "      <th>12349.0</th>\n",
       "      <td>0.048257</td>\n",
       "      <td>0.009020</td>\n",
       "      <td>0.021303</td>\n",
       "      <td>1</td>\n",
       "    </tr>\n",
       "    <tr>\n",
       "      <th>12350.0</th>\n",
       "      <td>0.828418</td>\n",
       "      <td>0.002005</td>\n",
       "      <td>0.016288</td>\n",
       "      <td>0</td>\n",
       "    </tr>\n",
       "  </tbody>\n",
       "</table>\n",
       "</div>"
      ],
      "text/plain": [
       "            InvoiceDate  InvoiceNo  TotalPrice  cluster\n",
       "CustomerID                                             \n",
       "12346.0        0.871314   0.000125    0.015109        0\n",
       "12347.0        0.002681   0.022676    0.030297        1\n",
       "12348.0        0.198391   0.003758    0.021442        1\n",
       "12349.0        0.048257   0.009020    0.021303        1\n",
       "12350.0        0.828418   0.002005    0.016288        0"
      ]
     },
     "execution_count": 15,
     "metadata": {},
     "output_type": "execute_result"
    }
   ],
   "source": [
    "with_km_df = pd.DataFrame(normalize_df, columns=new_df.columns, index=new_df.index)\n",
    "with_km_df['cluster'] = cluster_k\n",
    "with_km_df.head()"
   ]
  },
  {
   "cell_type": "code",
   "execution_count": 16,
   "id": "6b04219e",
   "metadata": {
    "execution": {
     "iopub.execute_input": "2023-10-05T18:03:39.761072Z",
     "iopub.status.busy": "2023-10-05T18:03:39.760699Z",
     "iopub.status.idle": "2023-10-05T18:03:39.772580Z",
     "shell.execute_reply": "2023-10-05T18:03:39.771156Z"
    },
    "papermill": {
     "duration": 0.022424,
     "end_time": "2023-10-05T18:03:39.775068",
     "exception": false,
     "start_time": "2023-10-05T18:03:39.752644",
     "status": "completed"
    },
    "tags": []
   },
   "outputs": [
    {
     "data": {
      "text/plain": [
       "cluster\n",
       "0     634\n",
       "2     816\n",
       "1    2922\n",
       "Name: count, dtype: int64"
      ]
     },
     "execution_count": 16,
     "metadata": {},
     "output_type": "execute_result"
    }
   ],
   "source": [
    "with_km_df['cluster'].value_counts(ascending=True)"
   ]
  },
  {
   "cell_type": "code",
   "execution_count": 17,
   "id": "479cab62",
   "metadata": {
    "execution": {
     "iopub.execute_input": "2023-10-05T18:03:39.790851Z",
     "iopub.status.busy": "2023-10-05T18:03:39.790372Z",
     "iopub.status.idle": "2023-10-05T18:04:49.738558Z",
     "shell.execute_reply": "2023-10-05T18:04:49.737261Z"
    },
    "papermill": {
     "duration": 69.96461,
     "end_time": "2023-10-05T18:04:49.746606",
     "exception": false,
     "start_time": "2023-10-05T18:03:39.781996",
     "status": "completed"
    },
    "tags": []
   },
   "outputs": [
    {
     "data": {
      "image/png": "[encoded data removed]",
      "text/plain": [
       "<Figure size 640x480 with 1 Axes>"
      ]
     },
     "metadata": {},
     "output_type": "display_data"
    }
   ],
   "source": [
    "merging = linkage(normalize_df, method='ward')\n",
    "dendrogram(merging, leaf_rotation=90)\n",
    "plt.xlabel('Data Points')\n",
    "plt.ylabel('Euclidean distance')\n",
    "plt.show()"
   ]
  },
  {
   "cell_type": "code",
   "execution_count": 18,
   "id": "c15a9125",
   "metadata": {
    "execution": {
     "iopub.execute_input": "2023-10-05T18:04:49.762378Z",
     "iopub.status.busy": "2023-10-05T18:04:49.761869Z",
     "iopub.status.idle": "2023-10-05T18:04:50.700792Z",
     "shell.execute_reply": "2023-10-05T18:04:50.699562Z"
    },
    "papermill": {
     "duration": 0.950066,
     "end_time": "2023-10-05T18:04:50.703425",
     "exception": false,
     "start_time": "2023-10-05T18:04:49.753359",
     "status": "completed"
    },
    "tags": []
   },
   "outputs": [],
   "source": [
    "hc = AgglomerativeClustering(n_clusters=3, metric='euclidean', linkage='ward')\n",
    "cluster_hc = hc.fit_predict(normalize_df)"
   ]
  },
  {
   "cell_type": "code",
   "execution_count": 19,
   "id": "2c0e8bb6",
   "metadata": {
    "execution": {
     "iopub.execute_input": "2023-10-05T18:04:50.719569Z",
     "iopub.status.busy": "2023-10-05T18:04:50.719109Z",
     "iopub.status.idle": "2023-10-05T18:04:50.735016Z",
     "shell.execute_reply": "2023-10-05T18:04:50.734078Z"
    },
    "papermill": {
     "duration": 0.0266,
     "end_time": "2023-10-05T18:04:50.737003",
     "exception": false,
     "start_time": "2023-10-05T18:04:50.710403",
     "status": "completed"
    },
    "tags": []
   },
   "outputs": [
    {
     "data": {
      "text/html": [
       "<div>\n",
       "<style scoped>\n",
       "    .dataframe tbody tr th:only-of-type {\n",
       "        vertical-align: middle;\n",
       "    }\n",
       "\n",
       "    .dataframe tbody tr th {\n",
       "        vertical-align: top;\n",
       "    }\n",
       "\n",
       "    .dataframe thead th {\n",
       "        text-align: right;\n",
       "    }\n",
       "</style>\n",
       "<table border=\"1\" class=\"dataframe\">\n",
       "  <thead>\n",
       "    <tr style=\"text-align: right;\">\n",
       "      <th></th>\n",
       "      <th>InvoiceDate</th>\n",
       "      <th>InvoiceNo</th>\n",
       "      <th>TotalPrice</th>\n",
       "      <th>cluster</th>\n",
       "    </tr>\n",
       "    <tr>\n",
       "      <th>CustomerID</th>\n",
       "      <th></th>\n",
       "      <th></th>\n",
       "      <th></th>\n",
       "      <th></th>\n",
       "    </tr>\n",
       "  </thead>\n",
       "  <tbody>\n",
       "    <tr>\n",
       "      <th>12346.0</th>\n",
       "      <td>0.871314</td>\n",
       "      <td>0.000125</td>\n",
       "      <td>0.015109</td>\n",
       "      <td>2</td>\n",
       "    </tr>\n",
       "    <tr>\n",
       "      <th>12347.0</th>\n",
       "      <td>0.002681</td>\n",
       "      <td>0.022676</td>\n",
       "      <td>0.030297</td>\n",
       "      <td>0</td>\n",
       "    </tr>\n",
       "    <tr>\n",
       "      <th>12348.0</th>\n",
       "      <td>0.198391</td>\n",
       "      <td>0.003758</td>\n",
       "      <td>0.021442</td>\n",
       "      <td>0</td>\n",
       "    </tr>\n",
       "    <tr>\n",
       "      <th>12349.0</th>\n",
       "      <td>0.048257</td>\n",
       "      <td>0.009020</td>\n",
       "      <td>0.021303</td>\n",
       "      <td>0</td>\n",
       "    </tr>\n",
       "    <tr>\n",
       "      <th>12350.0</th>\n",
       "      <td>0.828418</td>\n",
       "      <td>0.002005</td>\n",
       "      <td>0.016288</td>\n",
       "      <td>2</td>\n",
       "    </tr>\n",
       "  </tbody>\n",
       "</table>\n",
       "</div>"
      ],
      "text/plain": [
       "            InvoiceDate  InvoiceNo  TotalPrice  cluster\n",
       "CustomerID                                             \n",
       "12346.0        0.871314   0.000125    0.015109        2\n",
       "12347.0        0.002681   0.022676    0.030297        0\n",
       "12348.0        0.198391   0.003758    0.021442        0\n",
       "12349.0        0.048257   0.009020    0.021303        0\n",
       "12350.0        0.828418   0.002005    0.016288        2"
      ]
     },
     "execution_count": 19,
     "metadata": {},
     "output_type": "execute_result"
    }
   ],
   "source": [
    "with_hc_df = pd.DataFrame(normalize_df, columns=new_df.columns, index=new_df.index)\n",
    "with_hc_df['cluster'] = cluster_hc\n",
    "with_hc_df.head()"
   ]
  },
  {
   "cell_type": "code",
   "execution_count": 20,
   "id": "e5216442",
   "metadata": {
    "execution": {
     "iopub.execute_input": "2023-10-05T18:04:50.754169Z",
     "iopub.status.busy": "2023-10-05T18:04:50.752609Z",
     "iopub.status.idle": "2023-10-05T18:04:50.762305Z",
     "shell.execute_reply": "2023-10-05T18:04:50.761523Z"
    },
    "papermill": {
     "duration": 0.020229,
     "end_time": "2023-10-05T18:04:50.764266",
     "exception": false,
     "start_time": "2023-10-05T18:04:50.744037",
     "status": "completed"
    },
    "tags": []
   },
   "outputs": [
    {
     "data": {
      "text/plain": [
       "cluster\n",
       "2     391\n",
       "1     850\n",
       "0    3131\n",
       "Name: count, dtype: int64"
      ]
     },
     "execution_count": 20,
     "metadata": {},
     "output_type": "execute_result"
    }
   ],
   "source": [
    "with_hc_df['cluster'].value_counts(ascending=True)"
   ]
  },
  {
   "cell_type": "code",
   "execution_count": 21,
   "id": "c77eb18b",
   "metadata": {
    "execution": {
     "iopub.execute_input": "2023-10-05T18:04:50.781739Z",
     "iopub.status.busy": "2023-10-05T18:04:50.781357Z",
     "iopub.status.idle": "2023-10-05T18:04:51.191110Z",
     "shell.execute_reply": "2023-10-05T18:04:51.189676Z"
    },
    "papermill": {
     "duration": 0.421936,
     "end_time": "2023-10-05T18:04:51.193794",
     "exception": false,
     "start_time": "2023-10-05T18:04:50.771858",
     "status": "completed"
    },
    "tags": []
   },
   "outputs": [
    {
     "data": {
      "image/png": "[encoded data removed]",
      "text/plain": [
       "<Figure size 400x600 with 3 Axes>"
      ]
     },
     "metadata": {},
     "output_type": "display_data"
    }
   ],
   "source": [
    "cluster_mean = with_hc_df.groupby('cluster')[['InvoiceDate', 'InvoiceNo', 'TotalPrice']].mean().reset_index()\n",
    "\n",
    "fig, axes = plt.subplots(nrows=3, figsize=(4, 6))\n",
    "\n",
    "sns.barplot(cluster_mean, x='cluster', y='InvoiceDate', ax=axes[0])\n",
    "sns.barplot(cluster_mean, x='cluster', y='InvoiceNo', ax=axes[1])\n",
    "sns.barplot(cluster_mean, x='cluster', y='TotalPrice', ax=axes[2])\n",
    "\n",
    "plt.show()"
   ]
  },
  {
   "cell_type": "code",
   "execution_count": 22,
   "id": "a2a54f11",
   "metadata": {
    "execution": {
     "iopub.execute_input": "2023-10-05T18:04:51.211614Z",
     "iopub.status.busy": "2023-10-05T18:04:51.211209Z",
     "iopub.status.idle": "2023-10-05T18:04:51.616812Z",
     "shell.execute_reply": "2023-10-05T18:04:51.616002Z"
    },
    "papermill": {
     "duration": 0.417406,
     "end_time": "2023-10-05T18:04:51.619272",
     "exception": false,
     "start_time": "2023-10-05T18:04:51.201866",
     "status": "completed"
    },
    "tags": []
   },
   "outputs": [
    {
     "data": {
      "image/png": "[encoded data removed]",
      "text/plain": [
       "<Figure size 400x600 with 3 Axes>"
      ]
     },
     "metadata": {},
     "output_type": "display_data"
    }
   ],
   "source": [
    "cluster_mean = with_km_df.groupby('cluster')[['InvoiceDate', 'InvoiceNo', 'TotalPrice']].mean().reset_index()\n",
    "\n",
    "fig, axes = plt.subplots(nrows=3, figsize=(4, 6))\n",
    "\n",
    "sns.barplot(cluster_mean, x='cluster', y='InvoiceDate', ax=axes[0])\n",
    "sns.barplot(cluster_mean, x='cluster', y='InvoiceNo', ax=axes[1])\n",
    "sns.barplot(cluster_mean, x='cluster', y='TotalPrice', ax=axes[2])\n",
    "\n",
    "plt.show()"
   ]
  }
 ],
 "metadata": {
  "kernelspec": {
   "display_name": "Python 3",
   "language": "python",
   "name": "python3"
  },
  "language_info": {
   "codemirror_mode": {
    "name": "ipython",
    "version": 3
   },
   "file_extension": ".py",
   "mimetype": "text/x-python",
   "name": "python",
   "nbconvert_exporter": "python",
   "pygments_lexer": "ipython3",
   "version": "3.10.12"
  },
  "papermill": {
   "default_parameters": {},
   "duration": 170.399324,
   "end_time": "2023-10-05T18:04:53.054243",
   "environment_variables": {},
   "exception": null,
   "input_path": "__notebook__.ipynb",
   "output_path": "__notebook__.ipynb",
   "parameters": {},
   "start_time": "2023-10-05T18:02:02.654919",
   "version": "2.4.0"
  }
 },
 "nbformat": 4,
 "nbformat_minor": 5
}
